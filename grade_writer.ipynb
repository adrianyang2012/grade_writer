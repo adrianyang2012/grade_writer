{
  "nbformat": 4,
  "nbformat_minor": 0,
  "metadata": {
    "colab": {
      "private_outputs": true,
      "provenance": [],
      "authorship_tag": "ABX9TyOoOAzKS+xb/yT7mouxFtsq",
      "include_colab_link": true
    },
    "kernelspec": {
      "name": "python3",
      "display_name": "Python 3"
    },
    "language_info": {
      "name": "python"
    }
  },
  "cells": [
    {
      "cell_type": "markdown",
      "metadata": {
        "id": "view-in-github",
        "colab_type": "text"
      },
      "source": [
        "<a href=\"https://colab.research.google.com/github/adrianyang2012/grade_writer/blob/main/grade_writer.ipynb\" target=\"_parent\"><img src=\"https://colab.research.google.com/assets/colab-badge.svg\" alt=\"Open In Colab\"/></a>"
      ]
    },
    {
      "cell_type": "code",
      "execution_count": null,
      "metadata": {
        "id": "ZyDd7OJWEem-"
      },
      "outputs": [],
      "source": [
        "grade_dictinary = {}\n",
        "import csv\n",
        "def print_report_card(dictinary,notes):\n",
        "  for section in dictinary.keys():\n",
        "    print('\\n______________')\n",
        "    print(section)\n",
        "    values = []\n",
        "    for i in range(0,len(dictinary[section])):\n",
        "      if (i+1)%3 == 0:\n",
        "        print(f\"{dictinary[section][i][0]} : {dictinary[section][i][1]}\")\n",
        "        values.append(dictinary[section][i][1])\n",
        "      else:\n",
        "        print(f\"{dictinary[section][i][0]} : {dictinary[section][i][1]}\", end = '  ')\n",
        "        values.append(dictinary[section][i][1])\n",
        "    \n",
        "        \n",
        "\n",
        "    print(f\"average score:{sum(values)/len(values)}\")\n",
        "\n",
        "  with open('grades.csv', 'w') as f:\n",
        "      writer = csv.writer(f)\n",
        "\n",
        "      for section in dictinary.keys():\n",
        "        values = []\n",
        "        writer.writerow([section])\n",
        "        to_add = []\n",
        "        for item in dictinary[section]:\n",
        "          to_add.append([item[0],item[1]])\n",
        "          values.append(item[1])\n",
        "          if dictinary[section].index(item) % 3 == 0:\n",
        "            writer.writerow([f'{thing[0]}: {thing[1]}' for thing in to_add])\n",
        "            to_add = []d\n",
        "        writer.writerow([f\"average for this section : {sum(values)/len(values)}\"])\n",
        "\n",
        "  print(\"\\n_______________\")\n",
        "  print('comments:')\n",
        "  print(notes)\n",
        "while True:\n",
        "  print('type a name for a section and type exit to exit')\n",
        "  a = input()\n",
        "  if a == 'exit':\n",
        "    break\n",
        "  grade_dictinary[a] = []\n",
        "while True:\n",
        "  print('type a section you want to add to and type exit to exit')\n",
        "  section = input(\"\")\n",
        "  if section == 'exit':\n",
        "    break\n",
        "  try:\n",
        "    print('what is the item called')\n",
        "    item_name = input(\"\")\n",
        "    print('what is the grade 0-4')\n",
        "    grade = int(input(\"\"))\n",
        "    grade_dictinary[section].append([item_name,grade])\n",
        "  except:\n",
        "    print('invalid index')\n",
        "notes = input('write a note for the student')\n",
        "print_report_card(grade_dictinary,notes)\n"
      ]
    },
    {
      "cell_type": "code",
      "source": [
        "print(list(zip({'math':[['algebra',4],['calculus',4]]}['math'])))"
      ],
      "metadata": {
        "id": "joj8rVvGff39"
      },
      "execution_count": null,
      "outputs": []
    },
    {
      "cell_type": "code",
      "source": [],
      "metadata": {
        "id": "pgRXRuf8fnsm"
      },
      "execution_count": null,
      "outputs": []
    }
  ]
}